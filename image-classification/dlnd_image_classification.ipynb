{
 "cells": [
  {
   "cell_type": "markdown",
   "metadata": {
    "collapsed": true
   },
   "source": [
    "# Image Classification\n",
    "In this project, you'll classify images from the [CIFAR-10 dataset](https://www.cs.toronto.edu/~kriz/cifar.html).  The dataset consists of airplanes, dogs, cats, and other objects. You'll preprocess the images, then train a convolutional neural network on all the samples. The images need to be normalized and the labels need to be one-hot encoded.  You'll get to apply what you learned and build a convolutional, max pooling, dropout, and fully connected layers.  At the end, you'll get to see your neural network's predictions on the sample images.\n",
    "## Get the Data\n",
    "Run the following cell to download the [CIFAR-10 dataset for python](https://www.cs.toronto.edu/~kriz/cifar-10-python.tar.gz)."
   ]
  },
  {
   "cell_type": "code",
   "execution_count": 2,
   "metadata": {},
   "outputs": [
    {
     "name": "stdout",
     "output_type": "stream",
     "text": [
      "All files found!\n"
     ]
    }
   ],
   "source": [
    "\"\"\"\n",
    "DON'T MODIFY ANYTHING IN THIS CELL THAT IS BELOW THIS LINE\n",
    "\"\"\"\n",
    "from urllib.request import urlretrieve\n",
    "from os.path import isfile, isdir\n",
    "from tqdm import tqdm\n",
    "import problem_unittests as tests\n",
    "import tarfile\n",
    "\n",
    "cifar10_dataset_folder_path = 'cifar-10-batches-py'\n",
    "\n",
    "# Use Floyd's cifar-10 dataset if present\n",
    "floyd_cifar10_location = '/input/cifar-10/python.tar.gz'\n",
    "if isfile(floyd_cifar10_location):\n",
    "    tar_gz_path = floyd_cifar10_location\n",
    "else:\n",
    "    tar_gz_path = 'cifar-10-python.tar.gz'\n",
    "\n",
    "class DLProgress(tqdm):\n",
    "    last_block = 0\n",
    "\n",
    "    def hook(self, block_num=1, block_size=1, total_size=None):\n",
    "        self.total = total_size\n",
    "        self.update((block_num - self.last_block) * block_size)\n",
    "        self.last_block = block_num\n",
    "\n",
    "if not isfile(tar_gz_path):\n",
    "    with DLProgress(unit='B', unit_scale=True, miniters=1, desc='CIFAR-10 Dataset') as pbar:\n",
    "        urlretrieve(\n",
    "            'https://www.cs.toronto.edu/~kriz/cifar-10-python.tar.gz',\n",
    "            tar_gz_path,\n",
    "            pbar.hook)\n",
    "\n",
    "if not isdir(cifar10_dataset_folder_path):\n",
    "    with tarfile.open(tar_gz_path) as tar:\n",
    "        tar.extractall()\n",
    "        tar.close()\n",
    "\n",
    "\n",
    "tests.test_folder_path(cifar10_dataset_folder_path)"
   ]
  },
  {
   "cell_type": "markdown",
   "metadata": {},
   "source": [
    "## Explore the Data\n",
    "The dataset is broken into batches to prevent your machine from running out of memory.  The CIFAR-10 dataset consists of 5 batches, named `data_batch_1`, `data_batch_2`, etc.. Each batch contains the labels and images that are one of the following:\n",
    "* airplane\n",
    "* automobile\n",
    "* bird\n",
    "* cat\n",
    "* deer\n",
    "* dog\n",
    "* frog\n",
    "* horse\n",
    "* ship\n",
    "* truck\n",
    "\n",
    "Understanding a dataset is part of making predictions on the data.  Play around with the code cell below by changing the `batch_id` and `sample_id`. The `batch_id` is the id for a batch (1-5). The `sample_id` is the id for a image and label pair in the batch.\n",
    "\n",
    "Ask yourself \"What are all possible labels?\", \"What is the range of values for the image data?\", \"Are the labels in order or random?\".  Answers to questions like these will help you preprocess the data and end up with better predictions."
   ]
  },
  {
   "cell_type": "code",
   "execution_count": 15,
   "metadata": {},
   "outputs": [
    {
     "name": "stdout",
     "output_type": "stream",
     "text": [
      "\n",
      "Stats of batch 2:\n",
      "Samples: 10000\n",
      "Label Counts: {0: 984, 1: 1007, 2: 1010, 3: 995, 4: 1010, 5: 988, 6: 1008, 7: 1026, 8: 987, 9: 985}\n",
      "First 20 Labels: [1, 6, 6, 8, 8, 3, 4, 6, 0, 6, 0, 3, 6, 6, 5, 4, 8, 3, 2, 6]\n",
      "\n",
      "Example of Image 56:\n",
      "Image - Min Value: 32 Max Value: 255\n",
      "Image - Shape: (32, 32, 3)\n",
      "Label - Label Id: 9 Name: truck\n"
     ]
    },
    {
     "data": {
      "image/png": "[encoded data removed]",
      "text/plain": [
       "<matplotlib.figure.Figure at 0x129060f60>"
      ]
     },
     "metadata": {
      "image/png": {
       "height": 250,
       "width": 253
      }
     },
     "output_type": "display_data"
    }
   ],
   "source": [
    "%matplotlib inline\n",
    "%config InlineBackend.figure_format = 'retina'\n",
    "\n",
    "import helper\n",
    "import numpy as np\n",
    "\n",
    "# Explore the dataset\n",
    "batch_id = 2\n",
    "sample_id = 56\n",
    "helper.display_stats(cifar10_dataset_folder_path, batch_id, sample_id)"
   ]
  },
  {
   "cell_type": "markdown",
   "metadata": {},
   "source": [
    "## Implement Preprocess Functions\n",
    "### Normalize\n",
    "In the cell below, implement the `normalize` function to take in image data, `x`, and return it as a normalized Numpy array. The values should be in the range of 0 to 1, inclusive.  The return object should be the same shape as `x`."
   ]
  },
  {
   "cell_type": "code",
   "execution_count": 16,
   "metadata": {},
   "outputs": [
    {
     "name": "stdout",
     "output_type": "stream",
     "text": [
      "Tests Passed\n"
     ]
    }
   ],
   "source": [
    "def normalize(x):\n",
    "    \"\"\"\n",
    "    Normalize a list of sample image data in the range of 0 to 1\n",
    "    : x: List of image data.  The image shape is (32, 32, 3)\n",
    "    : return: Numpy array of normalize data\n",
    "    \"\"\"\n",
    "    # TODO: Implement Function\n",
    "    normalized_min = 0\n",
    "    normalized_max = 1\n",
    "    raw_min = np.min(x)\n",
    "    raw_max = np.max(x)\n",
    "    return (x - raw_min)/(raw_max - raw_min)*(normalized_max - normalized_min) + normalized_min\n",
    "\n",
    "\"\"\"\n",
    "DON'T MODIFY ANYTHING IN THIS CELL THAT IS BELOW THIS LINE\n",
    "\"\"\"\n",
    "tests.test_normalize(normalize)"
   ]
  },
  {
   "cell_type": "markdown",
   "metadata": {},
   "source": [
    "### One-hot encode\n",
    "Just like the previous code cell, you'll be implementing a function for preprocessing.  This time, you'll implement the `one_hot_encode` function. The input, `x`, are a list of labels.  Implement the function to return the list of labels as One-Hot encoded Numpy array.  The possible values for labels are 0 to 9. The one-hot encoding function should return the same encoding for each value between each call to `one_hot_encode`.  Make sure to save the map of encodings outside the function.\n",
    "\n",
    "Hint: Don't reinvent the wheel."
   ]
  },
  {
   "cell_type": "code",
   "execution_count": 22,
   "metadata": {},
   "outputs": [
    {
     "data": {
      "text/plain": [
       "<function __main__.one_hot_encode>"
      ]
     },
     "execution_count": 22,
     "metadata": {},
     "output_type": "execute_result"
    }
   ],
   "source": [
    "def one_hot_encode(x):\n",
    "    \"\"\"\n",
    "    One hot encode a list of sample labels. Return a one-hot encoded vector for each label.\n",
    "    : x: List of sample Labels\n",
    "    : return: Numpy array of one-hot encoded labels\n",
    "    \"\"\"\n",
    "    # TODO: Implement Function\n",
    "    encoded_labels = np.zeros((len(x), 10))\n",
    "    encoded_labels[np.arange(len(x)), x] = 1.0\n",
    "    return encoded_labels\n",
    "\n",
    "\"\"\"\n",
    "DON'T MODIFY ANYTHING IN THIS CELL THAT IS BELOW THIS LINE\n",
    "\"\"\"\n",
    "tests.test_one_hot_encode(one_hot_encode)"
   ]
  },
  {
   "cell_type": "markdown",
   "metadata": {},
   "source": [
    "### Randomize Data\n",
    "As you saw from exploring the data above, the order of the samples are randomized.  It doesn't hurt to randomize it again, but you don't need to for this dataset."
   ]
  },
  {
   "cell_type": "markdown",
   "metadata": {},
   "source": [
    "## Preprocess all the data and save it\n",
    "Running the code cell below will preprocess all the CIFAR-10 data and save it to file. The code below also uses 10% of the training data for validation."
   ]
  },
  {
   "cell_type": "code",
   "execution_count": 19,
   "metadata": {
    "collapsed": true
   },
   "outputs": [],
   "source": [
    "\"\"\"\n",
    "DON'T MODIFY ANYTHING IN THIS CELL\n",
    "\"\"\"\n",
    "# Preprocess Training, Validation, and Testing Data\n",
    "helper.preprocess_and_save_data(cifar10_dataset_folder_path, normalize, one_hot_encode)"
   ]
  },
  {
   "cell_type": "markdown",
   "metadata": {},
   "source": [
    "# Check Point\n",
    "This is your first checkpoint.  If you ever decide to come back to this notebook or have to restart the notebook, you can start from here.  The preprocessed data has been saved to disk."
   ]
  },
  {
   "cell_type": "code",
   "execution_count": 30,
   "metadata": {},
   "outputs": [],
   "source": [
    "\"\"\"\n",
    "DON'T MODIFY ANYTHING IN THIS CELL\n",
    "\"\"\"\n",
    "import pickle\n",
    "import problem_unittests as tests\n",
    "import helper\n",
    "\n",
    "# Load the Preprocessed Validation data\n",
    "valid_features, valid_labels = pickle.load(open('preprocess_validation.p', mode='rb'))"
   ]
  },
  {
   "cell_type": "markdown",
   "metadata": {},
   "source": [
    "## Build the network\n",
    "For the neural network, you'll build each layer into a function.  Most of the code you've seen has been outside of functions. To test your code more thoroughly, we require that you put each layer in a function.  This allows us to give you better feedback and test for simple mistakes using our unittests before you submit your project.\n",
    "\n",
    ">**Note:** If you're finding it hard to dedicate enough time for this course each week, we've provided a small shortcut to this part of the project. In the next couple of problems, you'll have the option to use classes from the [TensorFlow Layers](https://www.tensorflow.org/api_docs/python/tf/layers) or [TensorFlow Layers (contrib)](https://www.tensorflow.org/api_guides/python/contrib.layers) packages to build each layer, except the layers you build in the \"Convolutional and Max Pooling Layer\" section.  TF Layers is similar to Keras's and TFLearn's abstraction to layers, so it's easy to pickup.\n",
    "\n",
    ">However, if you would like to get the most out of this course, try to solve all the problems _without_ using anything from the TF Layers packages. You **can** still use classes from other packages that happen to have the same name as ones you find in TF Layers! For example, instead of using the TF Layers version of the `conv2d` class, [tf.layers.conv2d](https://www.tensorflow.org/api_docs/python/tf/layers/conv2d), you would want to use the TF Neural Network version of `conv2d`, [tf.nn.conv2d](https://www.tensorflow.org/api_docs/python/tf/nn/conv2d). \n",
    "\n",
    "Let's begin!\n",
    "\n",
    "### Input\n",
    "The neural network needs to read the image data, one-hot encoded labels, and dropout keep probability. Implement the following functions\n",
    "* Implement `neural_net_image_input`\n",
    " * Return a [TF Placeholder](https://www.tensorflow.org/api_docs/python/tf/placeholder)\n",
    " * Set the shape using `image_shape` with batch size set to `None`.\n",
    " * Name the TensorFlow placeholder \"x\" using the TensorFlow `name` parameter in the [TF Placeholder](https://www.tensorflow.org/api_docs/python/tf/placeholder).\n",
    "* Implement `neural_net_label_input`\n",
    " * Return a [TF Placeholder](https://www.tensorflow.org/api_docs/python/tf/placeholder)\n",
    " * Set the shape using `n_classes` with batch size set to `None`.\n",
    " * Name the TensorFlow placeholder \"y\" using the TensorFlow `name` parameter in the [TF Placeholder](https://www.tensorflow.org/api_docs/python/tf/placeholder).\n",
    "* Implement `neural_net_keep_prob_input`\n",
    " * Return a [TF Placeholder](https://www.tensorflow.org/api_docs/python/tf/placeholder) for dropout keep probability.\n",
    " * Name the TensorFlow placeholder \"keep_prob\" using the TensorFlow `name` parameter in the [TF Placeholder](https://www.tensorflow.org/api_docs/python/tf/placeholder).\n",
    "\n",
    "These names will be used at the end of the project to load your saved model.\n",
    "\n",
    "Note: `None` for shapes in TensorFlow allow for a dynamic size."
   ]
  },
  {
   "cell_type": "code",
   "execution_count": 32,
   "metadata": {},
   "outputs": [
    {
     "name": "stdout",
     "output_type": "stream",
     "text": [
      "Image Input Tests Passed.\n",
      "Label Input Tests Passed.\n",
      "Keep Prob Tests Passed.\n",
      "(32, 32, 3, 5)\n",
      "Tensor(\"truncated_normal:0\", shape=(32, 32, 3, 5), dtype=float32)\n"
     ]
    }
   ],
   "source": [
    "import tensorflow as tf\n",
    "\n",
    "def neural_net_image_input(image_shape):\n",
    "    \"\"\"\n",
    "    Return a Tensor for a batch of image input\n",
    "    : image_shape: Shape of the images\n",
    "    : return: Tensor for image input.\n",
    "    \"\"\"\n",
    "    # TODO: Implement Function\n",
    "    return tf.placeholder(tf.float32, [None] + list(image_shape), \"x\")\n",
    "\n",
    "\n",
    "def neural_net_label_input(n_classes):\n",
    "    \"\"\"\n",
    "    Return a Tensor for a batch of label input\n",
    "    : n_classes: Number of classes\n",
    "    : return: Tensor for label input.\n",
    "    \"\"\"\n",
    "    # TODO: Implement Function\n",
    "    return tf.placeholder(tf.float32, [None, n_classes], \"y\")\n",
    "\n",
    "\n",
    "def neural_net_keep_prob_input():\n",
    "    \"\"\"\n",
    "    Return a Tensor for keep probability\n",
    "    : return: Tensor for keep probability.\n",
    "    \"\"\"\n",
    "    # TODO: Implement Function\n",
    "    return tf.placeholder(tf.float32, None, \"keep_prob\")\n",
    "\n",
    "\n",
    "\"\"\"\n",
    "DON'T MODIFY ANYTHING IN THIS CELL THAT IS BELOW THIS LINE\n",
    "\"\"\"\n",
    "tf.reset_default_graph()\n",
    "tests.test_nn_image_inputs(neural_net_image_input)\n",
    "tests.test_nn_label_inputs(neural_net_label_input)\n",
    "tests.test_nn_keep_prob_inputs(neural_net_keep_prob_input)"
   ]
  },
  {
   "cell_type": "markdown",
   "metadata": {},
   "source": [
    "### Convolution and Max Pooling Layer\n",
    "Convolution layers have a lot of success with images. For this code cell, you should implement the function `conv2d_maxpool` to apply convolution then max pooling:\n",
    "* Create the weight and bias using `conv_ksize`, `conv_num_outputs` and the shape of `x_tensor`.\n",
    "* Apply a convolution to `x_tensor` using weight and `conv_strides`.\n",
    " * We recommend you use same padding, but you're welcome to use any padding.\n",
    "* Add bias\n",
    "* Add a nonlinear activation to the convolution.\n",
    "* Apply Max Pooling using `pool_ksize` and `pool_strides`.\n",
    " * We recommend you use same padding, but you're welcome to use any padding.\n",
    "\n",
    "**Note:** You **can't** use [TensorFlow Layers](https://www.tensorflow.org/api_docs/python/tf/layers) or [TensorFlow Layers (contrib)](https://www.tensorflow.org/api_guides/python/contrib.layers) for **this** layer, but you can still use TensorFlow's [Neural Network](https://www.tensorflow.org/api_docs/python/tf/nn) package. You may still use the shortcut option for all the **other** layers."
   ]
  },
  {
   "cell_type": "code",
   "execution_count": 34,
   "metadata": {},
   "outputs": [
    {
     "name": "stdout",
     "output_type": "stream",
     "text": [
      "Tests Passed\n"
     ]
    }
   ],
   "source": [
    "def conv2d_maxpool(x_tensor, conv_num_outputs, conv_ksize, conv_strides, pool_ksize, pool_strides):\n",
    "    \"\"\"\n",
    "    Apply convolution then max pooling to x_tensor\n",
    "    :param x_tensor: TensorFlow Tensor\n",
    "    :param conv_num_outputs: Number of outputs for the convolutional layer\n",
    "    :param conv_ksize: kernal size 2-D Tuple for the convolutional layer\n",
    "    :param conv_strides: Stride 2-D Tuple for convolution\n",
    "    :param pool_ksize: kernal size 2-D Tuple for pool\n",
    "    :param pool_strides: Stride 2-D Tuple for pool\n",
    "    : return: A tensor that represents convolution and max pooling of x_tensor\n",
    "    \"\"\"\n",
    "    # TODO: Implement Function\n",
    "    x_depth = x_tensor.get_shape().as_list()[-1]\n",
    "    filter_shape = list(conv_ksize + (x_depth,) + (conv_num_outputs,)) # (height, width, input_depth, output_depth)\n",
    "    filter_weights = tf.Variable(tf.truncated_normal(filter_shape, stddev=0.1))\n",
    "    filter_bias = tf.Variable(tf.zeros(conv_num_outputs))\n",
    "    \n",
    "    # Apply convulation\n",
    "    conv_layer = tf.nn.conv2d(\n",
    "        x_tensor, \n",
    "        filter_weights, \n",
    "        strides=list((1,) + conv_strides + (1,)),\n",
    "        padding='SAME')\n",
    "    conv_layer = tf.nn.bias_add(conv_layer, filter_bias)\n",
    "   \n",
    "    # Add a nonlinear activation to the convolution.\n",
    "    conv_layer = tf.nn.relu(conv_layer)\n",
    "    \n",
    "    # max pooling\n",
    "    conv_layer = tf.nn.max_pool(\n",
    "        conv_layer,\n",
    "        ksize=[1] + list(pool_ksize) + [1],\n",
    "        strides=[1] + list(pool_strides) + [1],\n",
    "        padding='SAME')\n",
    "    return conv_layer \n",
    "\n",
    "\n",
    "\"\"\"\n",
    "DON'T MODIFY ANYTHING IN THIS CELL THAT IS BELOW THIS LINE\n",
    "\"\"\"\n",
    "tests.test_con_pool(conv2d_maxpool)"
   ]
  },
  {
   "cell_type": "markdown",
   "metadata": {},
   "source": [
    "### Flatten Layer\n",
    "Implement the `flatten` function to change the dimension of `x_tensor` from a 4-D tensor to a 2-D tensor.  The output should be the shape (*Batch Size*, *Flattened Image Size*). Shortcut option: you can use classes from the [TensorFlow Layers](https://www.tensorflow.org/api_docs/python/tf/layers) or [TensorFlow Layers (contrib)](https://www.tensorflow.org/api_guides/python/contrib.layers) packages for this layer. For more of a challenge, only use other TensorFlow packages."
   ]
  },
  {
   "cell_type": "code",
   "execution_count": 35,
   "metadata": {},
   "outputs": [
    {
     "name": "stdout",
     "output_type": "stream",
     "text": [
      "Tests Passed\n"
     ]
    }
   ],
   "source": [
    "def flatten(x_tensor):\n",
    "    \"\"\"\n",
    "    Flatten x_tensor to (Batch Size, Flattened Image Size)\n",
    "    : x_tensor: A tensor of size (Batch Size, ...), where ... are the image dimensions.\n",
    "    : return: A tensor of size (Batch Size, Flattened Image Size).\n",
    "    \"\"\"\n",
    "    # TODO: Implement Function\n",
    "    from numpy import prod\n",
    "    dimensions = x_tensor.get_shape().as_list()    \n",
    "    return tf.reshape(x_tensor, [-1, prod(dimensions[1:])])\n",
    "\n",
    "\n",
    "\"\"\"\n",
    "DON'T MODIFY ANYTHING IN THIS CELL THAT IS BELOW THIS LINE\n",
    "\"\"\"\n",
    "tests.test_flatten(flatten)"
   ]
  },
  {
   "cell_type": "markdown",
   "metadata": {},
   "source": [
    "### Fully-Connected Layer\n",
    "Implement the `fully_conn` function to apply a fully connected layer to `x_tensor` with the shape (*Batch Size*, *num_outputs*). Shortcut option: you can use classes from the [TensorFlow Layers](https://www.tensorflow.org/api_docs/python/tf/layers) or [TensorFlow Layers (contrib)](https://www.tensorflow.org/api_guides/python/contrib.layers) packages for this layer. For more of a challenge, only use other TensorFlow packages."
   ]
  },
  {
   "cell_type": "code",
   "execution_count": 37,
   "metadata": {},
   "outputs": [
    {
     "name": "stdout",
     "output_type": "stream",
     "text": [
      "Tests Passed\n"
     ]
    }
   ],
   "source": [
    "def fully_conn(x_tensor, num_outputs):\n",
    "    \"\"\"\n",
    "    Apply a fully connected layer to x_tensor using weight and bias\n",
    "    : x_tensor: A 2-D tensor where the first dimension is batch size.\n",
    "    : num_outputs: The number of output that the new tensor should be.\n",
    "    : return: A 2-D tensor where the second dimension is num_outputs.\n",
    "    \"\"\"\n",
    "    # TODO: Implement Function\n",
    "    dimensions = x_tensor.get_shape().as_list()\n",
    "    shape = list((dimensions[-1],) + (num_outputs,))\n",
    "    weight = tf.Variable(tf.truncated_normal(shape, 0, 0.01))\n",
    "    bias = tf.Variable(tf.zeros(num_outputs))\n",
    "    return tf.nn.relu(tf.add(tf.matmul(x_tensor,weight), bias))\n",
    "\n",
    "\n",
    "\"\"\"\n",
    "DON'T MODIFY ANYTHING IN THIS CELL THAT IS BELOW THIS LINE\n",
    "\"\"\"\n",
    "tests.test_fully_conn(fully_conn)"
   ]
  },
  {
   "cell_type": "markdown",
   "metadata": {},
   "source": [
    "### Output Layer\n",
    "Implement the `output` function to apply a fully connected layer to `x_tensor` with the shape (*Batch Size*, *num_outputs*). Shortcut option: you can use classes from the [TensorFlow Layers](https://www.tensorflow.org/api_docs/python/tf/layers) or [TensorFlow Layers (contrib)](https://www.tensorflow.org/api_guides/python/contrib.layers) packages for this layer. For more of a challenge, only use other TensorFlow packages.\n",
    "\n",
    "**Note:** Activation, softmax, or cross entropy should **not** be applied to this."
   ]
  },
  {
   "cell_type": "code",
   "execution_count": 39,
   "metadata": {},
   "outputs": [
    {
     "name": "stdout",
     "output_type": "stream",
     "text": [
      "Tests Passed\n"
     ]
    }
   ],
   "source": [
    "def output(x_tensor, num_outputs):\n",
    "    \"\"\"\n",
    "    Apply a output layer to x_tensor using weight and bias\n",
    "    : x_tensor: A 2-D tensor where the first dimension is batch size.\n",
    "    : num_outputs: The number of output that the new tensor should be.\n",
    "    : return: A 2-D tensor where the second dimension is num_outputs.\n",
    "    \"\"\"\n",
    "    # TODO: Implement Function\n",
    "    dimension = x_tensor.get_shape().as_list()\n",
    "    shape = list( (dimension[-1],) + (num_outputs,))\n",
    "    weight = tf.Variable(tf.truncated_normal(shape,0,0.01))\n",
    "    bias = tf.Variable(tf.zeros(num_outputs))\n",
    "    return tf.add(tf.matmul(x_tensor,weight), bias)\n",
    "\n",
    "\n",
    "\"\"\"\n",
    "DON'T MODIFY ANYTHING IN THIS CELL THAT IS BELOW THIS LINE\n",
    "\"\"\"\n",
    "tests.test_output(output)"
   ]
  },
  {
   "cell_type": "markdown",
   "metadata": {},
   "source": [
    "### Create Convolutional Model\n",
    "Implement the function `conv_net` to create a convolutional neural network model. The function takes in a batch of images, `x`, and outputs logits.  Use the layers you created above to create this model:\n",
    "\n",
    "* Apply 1, 2, or 3 Convolution and Max Pool layers\n",
    "* Apply a Flatten Layer\n",
    "* Apply 1, 2, or 3 Fully Connected Layers\n",
    "* Apply an Output Layer\n",
    "* Return the output\n",
    "* Apply [TensorFlow's Dropout](https://www.tensorflow.org/api_docs/python/tf/nn/dropout) to one or more layers in the model using `keep_prob`. "
   ]
  },
  {
   "cell_type": "code",
   "execution_count": 40,
   "metadata": {},
   "outputs": [
    {
     "name": "stdout",
     "output_type": "stream",
     "text": [
      "Neural Network Built!\n"
     ]
    }
   ],
   "source": [
    "def conv_net(x, keep_prob):\n",
    "    \"\"\"\n",
    "    Create a convolutional neural network model\n",
    "    : x: Placeholder tensor that holds image data.\n",
    "    : keep_prob: Placeholder tensor that hold dropout keep probability.\n",
    "    : return: Tensor that represents logits\n",
    "    \"\"\"\n",
    "    # TODO: Apply 1, 2, or 3 Convolution and Max Pool layers\n",
    "    #    Play around with different number of outputs, kernel size and stride\n",
    "    # Function Definition from Above:\n",
    "    #    conv2d_maxpool(x_tensor, conv_num_outputs, conv_ksize, conv_strides, pool_ksize, pool_strides)\n",
    "    layer = conv2d_maxpool(x, 64, (4,4), (1,1), (2,2), (2,2))\n",
    "    tf.nn.dropout(layer, keep_prob=keep_prob)\n",
    "\n",
    "    # TODO: Apply a Flatten Layer\n",
    "    # Function Definition from Above:\n",
    "    #   flatten(x_tensor)\n",
    "    layer = flatten(layer)\n",
    "\n",
    "    # TODO: Apply 1, 2, or 3 Fully Connected Layers\n",
    "    #    Play around with different number of outputs\n",
    "    # Function Definition from Above:\n",
    "    #   fully_conn(x_tensor, num_outputs)\n",
    "    layer = fully_conn(layer,500)\n",
    "    layer = tf.nn.dropout(layer, keep_prob)\n",
    "    layer = fully_conn(layer,100)\n",
    "    layer = tf.nn.dropout(layer, keep_prob)\n",
    "    \n",
    "    # TODO: Apply an Output Layer\n",
    "    #    Set this to the number of classes\n",
    "    # Function Definition from Above:\n",
    "    #   output(x_tensor, num_outputs)\n",
    "    \n",
    "    \n",
    "    # TODO: return output\n",
    "    return output(layer,10)\n",
    "\n",
    "\"\"\"\n",
    "DON'T MODIFY ANYTHING IN THIS CELL THAT IS BELOW THIS LINE\n",
    "\"\"\"\n",
    "\n",
    "##############################\n",
    "## Build the Neural Network ##\n",
    "##############################\n",
    "\n",
    "# Remove previous weights, bias, inputs, etc..\n",
    "tf.reset_default_graph()\n",
    "\n",
    "# Inputs\n",
    "x = neural_net_image_input((32, 32, 3))\n",
    "y = neural_net_label_input(10)\n",
    "keep_prob = neural_net_keep_prob_input()\n",
    "\n",
    "# Model\n",
    "logits = conv_net(x, keep_prob)\n",
    "\n",
    "# Name logits Tensor, so that is can be loaded from disk after training\n",
    "logits = tf.identity(logits, name='logits')\n",
    "\n",
    "# Loss and Optimizer\n",
    "cost = tf.reduce_mean(tf.nn.softmax_cross_entropy_with_logits(logits=logits, labels=y))\n",
    "optimizer = tf.train.AdamOptimizer().minimize(cost)\n",
    "\n",
    "# Accuracy\n",
    "correct_pred = tf.equal(tf.argmax(logits, 1), tf.argmax(y, 1))\n",
    "accuracy = tf.reduce_mean(tf.cast(correct_pred, tf.float32), name='accuracy')\n",
    "\n",
    "tests.test_conv_net(conv_net)"
   ]
  },
  {
   "cell_type": "markdown",
   "metadata": {},
   "source": [
    "## Train the Neural Network\n",
    "### Single Optimization\n",
    "Implement the function `train_neural_network` to do a single optimization.  The optimization should use `optimizer` to optimize in `session` with a `feed_dict` of the following:\n",
    "* `x` for image input\n",
    "* `y` for labels\n",
    "* `keep_prob` for keep probability for dropout\n",
    "\n",
    "This function will be called for each batch, so `tf.global_variables_initializer()` has already been called.\n",
    "\n",
    "Note: Nothing needs to be returned. This function is only optimizing the neural network."
   ]
  },
  {
   "cell_type": "code",
   "execution_count": 41,
   "metadata": {},
   "outputs": [
    {
     "name": "stdout",
     "output_type": "stream",
     "text": [
      "Tests Passed\n"
     ]
    }
   ],
   "source": [
    "def train_neural_network(session, optimizer, keep_probability, feature_batch, label_batch):\n",
    "    \"\"\"\n",
    "    Optimize the session on a batch of images and labels\n",
    "    : session: Current TensorFlow session\n",
    "    : optimizer: TensorFlow optimizer function\n",
    "    : keep_probability: keep probability\n",
    "    : feature_batch: Batch of Numpy image data\n",
    "    : label_batch: Batch of Numpy label data\n",
    "    \"\"\"\n",
    "    # TODO: Implement Function\n",
    "    session.run(optimizer, feed_dict={x: feature_batch, y: label_batch, keep_prob: keep_probability})\n",
    "\n",
    "\n",
    "\"\"\"\n",
    "DON'T MODIFY ANYTHING IN THIS CELL THAT IS BELOW THIS LINE\n",
    "\"\"\"\n",
    "tests.test_train_nn(train_neural_network)"
   ]
  },
  {
   "cell_type": "markdown",
   "metadata": {},
   "source": [
    "### Show Stats\n",
    "Implement the function `print_stats` to print loss and validation accuracy.  Use the global variables `valid_features` and `valid_labels` to calculate validation accuracy.  Use a keep probability of `1.0` to calculate the loss and validation accuracy."
   ]
  },
  {
   "cell_type": "code",
   "execution_count": 45,
   "metadata": {
    "collapsed": true
   },
   "outputs": [],
   "source": [
    "def print_stats(session, feature_batch, label_batch, cost, accuracy):\n",
    "    \"\"\"\n",
    "    Print information about loss and validation accuracy\n",
    "    : session: Current TensorFlow session\n",
    "    : feature_batch: Batch of Numpy image data\n",
    "    : label_batch: Batch of Numpy label data\n",
    "    : cost: TensorFlow cost function\n",
    "    : accuracy: TensorFlow accuracy function\n",
    "    \"\"\"\n",
    "    # TODO: Implement Function\n",
    "    loss = session.run(cost, \n",
    "                       feed_dict={\n",
    "                           x:feature_batch, \n",
    "                           y:label_batch, \n",
    "                           keep_prob:1.0})\n",
    "    valid_acc = sess.run(accuracy, feed_dict={\n",
    "                x: valid_features,\n",
    "                y: valid_labels,\n",
    "                keep_prob: 1.})\n",
    "    print('Loss = {0} - Validation Accuracy = {1}'.format(loss, valid_acc))"
   ]
  },
  {
   "cell_type": "markdown",
   "metadata": {},
   "source": [
    "### Hyperparameters\n",
    "Tune the following parameters:\n",
    "* Set `epochs` to the number of iterations until the network stops learning or start overfitting\n",
    "* Set `batch_size` to the highest number that your machine has memory for.  Most people set them to common sizes of memory:\n",
    " * 64\n",
    " * 128\n",
    " * 256\n",
    " * ...\n",
    "* Set `keep_probability` to the probability of keeping a node using dropout"
   ]
  },
  {
   "cell_type": "code",
   "execution_count": 43,
   "metadata": {
    "collapsed": true
   },
   "outputs": [],
   "source": [
    "# TODO: Tune Parameters\n",
    "epochs = 50\n",
    "batch_size = 512\n",
    "keep_probability = 0.5"
   ]
  },
  {
   "cell_type": "markdown",
   "metadata": {},
   "source": [
    "### Train on a Single CIFAR-10 Batch\n",
    "Instead of training the neural network on all the CIFAR-10 batches of data, let's use a single batch. This should save time while you iterate on the model to get a better accuracy.  Once the final validation accuracy is 50% or greater, run the model on all the data in the next section."
   ]
  },
  {
   "cell_type": "code",
   "execution_count": 49,
   "metadata": {},
   "outputs": [
    {
     "name": "stdout",
     "output_type": "stream",
     "text": [
      "Checking the Training on a Single Batch...\n",
      "Epoch  1, CIFAR-10 Batch 1:  Loss = 2.099886417388916 - Validation Accuracy = 0.2425999939441681\n",
      "Epoch  2, CIFAR-10 Batch 1:  Loss = 2.0053305625915527 - Validation Accuracy = 0.24500000476837158\n",
      "Epoch  3, CIFAR-10 Batch 1:  Loss = 1.885999083518982 - Validation Accuracy = 0.3285999894142151\n",
      "Epoch  4, CIFAR-10 Batch 1:  Loss = 1.7766605615615845 - Validation Accuracy = 0.36320000886917114\n",
      "Epoch  5, CIFAR-10 Batch 1:  Loss = 1.7112705707550049 - Validation Accuracy = 0.3747999966144562\n",
      "Epoch  6, CIFAR-10 Batch 1:  Loss = 1.641287088394165 - Validation Accuracy = 0.3837999999523163\n",
      "Epoch  7, CIFAR-10 Batch 1:  Loss = 1.574074625968933 - Validation Accuracy = 0.4000000059604645\n",
      "Epoch  8, CIFAR-10 Batch 1:  Loss = 1.5142394304275513 - Validation Accuracy = 0.4284000098705292\n",
      "Epoch  9, CIFAR-10 Batch 1:  Loss = 1.4493792057037354 - Validation Accuracy = 0.42739999294281006\n",
      "Epoch 10, CIFAR-10 Batch 1:  Loss = 1.3824915885925293 - Validation Accuracy = 0.4593999981880188\n",
      "Epoch 11, CIFAR-10 Batch 1:  Loss = 1.296103596687317 - Validation Accuracy = 0.47679999470710754\n",
      "Epoch 12, CIFAR-10 Batch 1:  Loss = 1.227387547492981 - Validation Accuracy = 0.48840001225471497\n",
      "Epoch 13, CIFAR-10 Batch 1:  Loss = 1.1883758306503296 - Validation Accuracy = 0.4812000095844269\n",
      "Epoch 14, CIFAR-10 Batch 1:  Loss = 1.1066529750823975 - Validation Accuracy = 0.5049999952316284\n",
      "Epoch 15, CIFAR-10 Batch 1:  Loss = 1.0347899198532104 - Validation Accuracy = 0.5167999863624573\n",
      "Epoch 16, CIFAR-10 Batch 1:  Loss = 0.9856489300727844 - Validation Accuracy = 0.5239999890327454\n",
      "Epoch 17, CIFAR-10 Batch 1:  Loss = 0.9232429265975952 - Validation Accuracy = 0.5284000039100647\n",
      "Epoch 18, CIFAR-10 Batch 1:  Loss = 0.860931396484375 - Validation Accuracy = 0.531000018119812\n",
      "Epoch 19, CIFAR-10 Batch 1:  Loss = 0.8144500851631165 - Validation Accuracy = 0.5368000268936157\n",
      "Epoch 20, CIFAR-10 Batch 1:  Loss = 0.7695057988166809 - Validation Accuracy = 0.5351999998092651\n",
      "Epoch 21, CIFAR-10 Batch 1:  Loss = 0.7056363821029663 - Validation Accuracy = 0.5414000153541565\n",
      "Epoch 22, CIFAR-10 Batch 1:  Loss = 0.669563889503479 - Validation Accuracy = 0.5475999712944031\n",
      "Epoch 23, CIFAR-10 Batch 1:  Loss = 0.6430653929710388 - Validation Accuracy = 0.550599992275238\n",
      "Epoch 24, CIFAR-10 Batch 1:  Loss = 0.5985254049301147 - Validation Accuracy = 0.5504000186920166\n",
      "Epoch 25, CIFAR-10 Batch 1:  Loss = 0.5539644360542297 - Validation Accuracy = 0.551800012588501\n",
      "Epoch 26, CIFAR-10 Batch 1:  Loss = 0.5448054075241089 - Validation Accuracy = 0.5472000241279602\n",
      "Epoch 27, CIFAR-10 Batch 1:  Loss = 0.49517667293548584 - Validation Accuracy = 0.5633999705314636\n",
      "Epoch 28, CIFAR-10 Batch 1:  Loss = 0.4540649652481079 - Validation Accuracy = 0.5644000172615051\n",
      "Epoch 29, CIFAR-10 Batch 1:  Loss = 0.4354369640350342 - Validation Accuracy = 0.5651999711990356\n",
      "Epoch 30, CIFAR-10 Batch 1:  Loss = 0.4180949330329895 - Validation Accuracy = 0.5600000023841858\n",
      "Epoch 31, CIFAR-10 Batch 1:  Loss = 0.4140916168689728 - Validation Accuracy = 0.5564000010490417\n",
      "Epoch 32, CIFAR-10 Batch 1:  Loss = 0.37489673495292664 - Validation Accuracy = 0.5580000281333923\n",
      "Epoch 33, CIFAR-10 Batch 1:  Loss = 0.3408580422401428 - Validation Accuracy = 0.5587999820709229\n",
      "Epoch 34, CIFAR-10 Batch 1:  Loss = 0.3052416443824768 - Validation Accuracy = 0.5636000037193298\n",
      "Epoch 35, CIFAR-10 Batch 1:  Loss = 0.3089155852794647 - Validation Accuracy = 0.5627999901771545\n",
      "Epoch 36, CIFAR-10 Batch 1:  Loss = 0.28037214279174805 - Validation Accuracy = 0.5669999718666077\n",
      "Epoch 37, CIFAR-10 Batch 1:  Loss = 0.2768895626068115 - Validation Accuracy = 0.5550000071525574\n",
      "Epoch 38, CIFAR-10 Batch 1:  Loss = 0.24534380435943604 - Validation Accuracy = 0.5767999887466431\n",
      "Epoch 39, CIFAR-10 Batch 1:  Loss = 0.22789397835731506 - Validation Accuracy = 0.5673999786376953\n",
      "Epoch 40, CIFAR-10 Batch 1:  Loss = 0.22040487825870514 - Validation Accuracy = 0.5681999921798706\n",
      "Epoch 41, CIFAR-10 Batch 1:  Loss = 0.18586839735507965 - Validation Accuracy = 0.5734000205993652\n",
      "Epoch 42, CIFAR-10 Batch 1:  Loss = 0.18394675850868225 - Validation Accuracy = 0.5637999773025513\n",
      "Epoch 43, CIFAR-10 Batch 1:  Loss = 0.18551357090473175 - Validation Accuracy = 0.5612000226974487\n",
      "Epoch 44, CIFAR-10 Batch 1:  Loss = 0.1850326955318451 - Validation Accuracy = 0.5527999997138977\n",
      "Epoch 45, CIFAR-10 Batch 1:  Loss = 0.2320970892906189 - Validation Accuracy = 0.5361999869346619\n",
      "Epoch 46, CIFAR-10 Batch 1:  Loss = 0.19645142555236816 - Validation Accuracy = 0.5419999957084656\n",
      "Epoch 47, CIFAR-10 Batch 1:  Loss = 0.14825470745563507 - Validation Accuracy = 0.5708000063896179\n",
      "Epoch 48, CIFAR-10 Batch 1:  Loss = 0.12980398535728455 - Validation Accuracy = 0.576200008392334\n",
      "Epoch 49, CIFAR-10 Batch 1:  Loss = 0.12021271139383316 - Validation Accuracy = 0.5740000009536743\n",
      "Epoch 50, CIFAR-10 Batch 1:  Loss = 0.09906638413667679 - Validation Accuracy = 0.571399986743927\n"
     ]
    }
   ],
   "source": [
    "\"\"\"\n",
    "DON'T MODIFY ANYTHING IN THIS CELL\n",
    "\"\"\"\n",
    "print('Checking the Training on a Single Batch...')\n",
    "with tf.Session() as sess:\n",
    "    # Initializing the variables\n",
    "    sess.run(tf.global_variables_initializer())\n",
    "    \n",
    "    # Training cycle\n",
    "    for epoch in range(epochs):\n",
    "        batch_i = 1\n",
    "        for batch_features, batch_labels in helper.load_preprocess_training_batch(batch_i, batch_size):\n",
    "            train_neural_network(sess, optimizer, keep_probability, batch_features, batch_labels)\n",
    "        print('Epoch {:>2}, CIFAR-10 Batch {}:  '.format(epoch + 1, batch_i), end='')\n",
    "        print_stats(sess, batch_features, batch_labels, cost, accuracy)"
   ]
  },
  {
   "cell_type": "markdown",
   "metadata": {},
   "source": [
    "### Fully Train the Model\n",
    "Now that you got a good accuracy with a single CIFAR-10 batch, try it with all five batches."
   ]
  },
  {
   "cell_type": "code",
   "execution_count": 47,
   "metadata": {},
   "outputs": [
    {
     "name": "stdout",
     "output_type": "stream",
     "text": [
      "Training...\n",
      "Epoch  1, CIFAR-10 Batch 1:  Loss = 2.0926284790039062 - Validation Accuracy = 0.22220000624656677\n",
      "Epoch  1, CIFAR-10 Batch 2:  Loss = 1.8909313678741455 - Validation Accuracy = 0.3100000023841858\n",
      "Epoch  1, CIFAR-10 Batch 3:  Loss = 1.7271664142608643 - Validation Accuracy = 0.3314000070095062\n",
      "Epoch  1, CIFAR-10 Batch 4:  Loss = 1.6371400356292725 - Validation Accuracy = 0.37700000405311584\n",
      "Epoch  1, CIFAR-10 Batch 5:  Loss = 1.6687177419662476 - Validation Accuracy = 0.3741999864578247\n",
      "Epoch  2, CIFAR-10 Batch 1:  Loss = 1.6660943031311035 - Validation Accuracy = 0.4002000093460083\n",
      "Epoch  2, CIFAR-10 Batch 2:  Loss = 1.5489188432693481 - Validation Accuracy = 0.42579999566078186\n",
      "Epoch  2, CIFAR-10 Batch 3:  Loss = 1.4144465923309326 - Validation Accuracy = 0.415800005197525\n",
      "Epoch  2, CIFAR-10 Batch 4:  Loss = 1.3717291355133057 - Validation Accuracy = 0.45100000500679016\n",
      "Epoch  2, CIFAR-10 Batch 5:  Loss = 1.42758047580719 - Validation Accuracy = 0.46799999475479126\n",
      "Epoch  3, CIFAR-10 Batch 1:  Loss = 1.4586082696914673 - Validation Accuracy = 0.47540000081062317\n",
      "Epoch  3, CIFAR-10 Batch 2:  Loss = 1.3679603338241577 - Validation Accuracy = 0.4952000081539154\n",
      "Epoch  3, CIFAR-10 Batch 3:  Loss = 1.1951308250427246 - Validation Accuracy = 0.5091999769210815\n",
      "Epoch  3, CIFAR-10 Batch 4:  Loss = 1.188881516456604 - Validation Accuracy = 0.5157999992370605\n",
      "Epoch  3, CIFAR-10 Batch 5:  Loss = 1.2262884378433228 - Validation Accuracy = 0.522599995136261\n",
      "Epoch  4, CIFAR-10 Batch 1:  Loss = 1.306283950805664 - Validation Accuracy = 0.5113999843597412\n",
      "Epoch  4, CIFAR-10 Batch 2:  Loss = 1.203299641609192 - Validation Accuracy = 0.5347999930381775\n",
      "Epoch  4, CIFAR-10 Batch 3:  Loss = 1.0704283714294434 - Validation Accuracy = 0.5437999963760376\n",
      "Epoch  4, CIFAR-10 Batch 4:  Loss = 1.0590729713439941 - Validation Accuracy = 0.5415999889373779\n",
      "Epoch  4, CIFAR-10 Batch 5:  Loss = 1.1083431243896484 - Validation Accuracy = 0.5526000261306763\n",
      "Epoch  5, CIFAR-10 Batch 1:  Loss = 1.203320026397705 - Validation Accuracy = 0.5582000017166138\n",
      "Epoch  5, CIFAR-10 Batch 2:  Loss = 1.1255165338516235 - Validation Accuracy = 0.548799991607666\n",
      "Epoch  5, CIFAR-10 Batch 3:  Loss = 0.9850387573242188 - Validation Accuracy = 0.5609999895095825\n",
      "Epoch  5, CIFAR-10 Batch 4:  Loss = 0.9824255704879761 - Validation Accuracy = 0.5564000010490417\n",
      "Epoch  5, CIFAR-10 Batch 5:  Loss = 0.9886656999588013 - Validation Accuracy = 0.5716000199317932\n",
      "Epoch  6, CIFAR-10 Batch 1:  Loss = 1.1049981117248535 - Validation Accuracy = 0.5598000288009644\n",
      "Epoch  6, CIFAR-10 Batch 2:  Loss = 1.0479098558425903 - Validation Accuracy = 0.5662000179290771\n",
      "Epoch  6, CIFAR-10 Batch 3:  Loss = 0.9115480780601501 - Validation Accuracy = 0.5813999772071838\n",
      "Epoch  6, CIFAR-10 Batch 4:  Loss = 0.8791621327400208 - Validation Accuracy = 0.5831999778747559\n",
      "Epoch  6, CIFAR-10 Batch 5:  Loss = 0.9282981157302856 - Validation Accuracy = 0.5861999988555908\n",
      "Epoch  7, CIFAR-10 Batch 1:  Loss = 1.0064671039581299 - Validation Accuracy = 0.5827999711036682\n",
      "Epoch  7, CIFAR-10 Batch 2:  Loss = 0.9843435287475586 - Validation Accuracy = 0.5759999752044678\n",
      "Epoch  7, CIFAR-10 Batch 3:  Loss = 0.8309145569801331 - Validation Accuracy = 0.5956000089645386\n",
      "Epoch  7, CIFAR-10 Batch 4:  Loss = 0.8194974064826965 - Validation Accuracy = 0.5983999967575073\n",
      "Epoch  7, CIFAR-10 Batch 5:  Loss = 0.8649228811264038 - Validation Accuracy = 0.5974000096321106\n",
      "Epoch  8, CIFAR-10 Batch 1:  Loss = 0.9410503506660461 - Validation Accuracy = 0.5879999995231628\n",
      "Epoch  8, CIFAR-10 Batch 2:  Loss = 0.9296982288360596 - Validation Accuracy = 0.5794000029563904\n",
      "Epoch  8, CIFAR-10 Batch 3:  Loss = 0.769612193107605 - Validation Accuracy = 0.6039999723434448\n",
      "Epoch  8, CIFAR-10 Batch 4:  Loss = 0.7514141798019409 - Validation Accuracy = 0.6115999817848206\n",
      "Epoch  8, CIFAR-10 Batch 5:  Loss = 0.8101350665092468 - Validation Accuracy = 0.6093999743461609\n",
      "Epoch  9, CIFAR-10 Batch 1:  Loss = 0.8763300180435181 - Validation Accuracy = 0.6096000075340271\n",
      "Epoch  9, CIFAR-10 Batch 2:  Loss = 0.8725003600120544 - Validation Accuracy = 0.5964000225067139\n",
      "Epoch  9, CIFAR-10 Batch 3:  Loss = 0.7254524827003479 - Validation Accuracy = 0.6173999905586243\n",
      "Epoch  9, CIFAR-10 Batch 4:  Loss = 0.6988893747329712 - Validation Accuracy = 0.6212000250816345\n",
      "Epoch  9, CIFAR-10 Batch 5:  Loss = 0.7307774424552917 - Validation Accuracy = 0.6187999844551086\n",
      "Epoch 10, CIFAR-10 Batch 1:  Loss = 0.7988195419311523 - Validation Accuracy = 0.620199978351593\n",
      "Epoch 10, CIFAR-10 Batch 2:  Loss = 0.7762117981910706 - Validation Accuracy = 0.6179999709129333\n",
      "Epoch 10, CIFAR-10 Batch 3:  Loss = 0.6675782203674316 - Validation Accuracy = 0.6259999871253967\n",
      "Epoch 10, CIFAR-10 Batch 4:  Loss = 0.6531587243080139 - Validation Accuracy = 0.629800021648407\n",
      "Epoch 10, CIFAR-10 Batch 5:  Loss = 0.6856082081794739 - Validation Accuracy = 0.6309999823570251\n",
      "Epoch 11, CIFAR-10 Batch 1:  Loss = 0.7369052767753601 - Validation Accuracy = 0.6295999884605408\n",
      "Epoch 11, CIFAR-10 Batch 2:  Loss = 0.717694103717804 - Validation Accuracy = 0.6313999891281128\n",
      "Epoch 11, CIFAR-10 Batch 3:  Loss = 0.6156778931617737 - Validation Accuracy = 0.6344000101089478\n",
      "Epoch 11, CIFAR-10 Batch 4:  Loss = 0.5908016562461853 - Validation Accuracy = 0.635200023651123\n",
      "Epoch 11, CIFAR-10 Batch 5:  Loss = 0.6250772476196289 - Validation Accuracy = 0.6389999985694885\n",
      "Epoch 12, CIFAR-10 Batch 1:  Loss = 0.6798694729804993 - Validation Accuracy = 0.6366000175476074\n",
      "Epoch 12, CIFAR-10 Batch 2:  Loss = 0.6524442434310913 - Validation Accuracy = 0.6281999945640564\n",
      "Epoch 12, CIFAR-10 Batch 3:  Loss = 0.571928858757019 - Validation Accuracy = 0.6448000073432922\n",
      "Epoch 12, CIFAR-10 Batch 4:  Loss = 0.5591564178466797 - Validation Accuracy = 0.6438000202178955\n",
      "Epoch 12, CIFAR-10 Batch 5:  Loss = 0.5763239860534668 - Validation Accuracy = 0.6320000290870667\n",
      "Epoch 13, CIFAR-10 Batch 1:  Loss = 0.6075594425201416 - Validation Accuracy = 0.652999997138977\n",
      "Epoch 13, CIFAR-10 Batch 2:  Loss = 0.6143293380737305 - Validation Accuracy = 0.6287999749183655\n",
      "Epoch 13, CIFAR-10 Batch 3:  Loss = 0.508608341217041 - Validation Accuracy = 0.6460000276565552\n",
      "Epoch 13, CIFAR-10 Batch 4:  Loss = 0.4993836581707001 - Validation Accuracy = 0.6525999903678894\n",
      "Epoch 13, CIFAR-10 Batch 5:  Loss = 0.5203426480293274 - Validation Accuracy = 0.6474000215530396\n",
      "Epoch 14, CIFAR-10 Batch 1:  Loss = 0.5621740818023682 - Validation Accuracy = 0.6564000248908997\n",
      "Epoch 14, CIFAR-10 Batch 2:  Loss = 0.5870280861854553 - Validation Accuracy = 0.6380000114440918\n",
      "Epoch 14, CIFAR-10 Batch 3:  Loss = 0.46737048029899597 - Validation Accuracy = 0.6579999923706055\n",
      "Epoch 14, CIFAR-10 Batch 4:  Loss = 0.45136916637420654 - Validation Accuracy = 0.6632000207901001\n",
      "Epoch 14, CIFAR-10 Batch 5:  Loss = 0.47673580050468445 - Validation Accuracy = 0.6582000255584717\n",
      "Epoch 15, CIFAR-10 Batch 1:  Loss = 0.5319588780403137 - Validation Accuracy = 0.6488000154495239\n",
      "Epoch 15, CIFAR-10 Batch 2:  Loss = 0.5342260003089905 - Validation Accuracy = 0.6385999917984009\n",
      "Epoch 15, CIFAR-10 Batch 3:  Loss = 0.4402920603752136 - Validation Accuracy = 0.6588000059127808\n",
      "Epoch 15, CIFAR-10 Batch 4:  Loss = 0.42354074120521545 - Validation Accuracy = 0.6593999862670898\n",
      "Epoch 15, CIFAR-10 Batch 5:  Loss = 0.4254048466682434 - Validation Accuracy = 0.6618000268936157\n",
      "Epoch 16, CIFAR-10 Batch 1:  Loss = 0.4641689658164978 - Validation Accuracy = 0.6539999842643738\n",
      "Epoch 16, CIFAR-10 Batch 2:  Loss = 0.49358218908309937 - Validation Accuracy = 0.6470000147819519\n",
      "Epoch 16, CIFAR-10 Batch 3:  Loss = 0.42682361602783203 - Validation Accuracy = 0.652999997138977\n",
      "Epoch 16, CIFAR-10 Batch 4:  Loss = 0.3825905919075012 - Validation Accuracy = 0.6625999808311462\n",
      "Epoch 16, CIFAR-10 Batch 5:  Loss = 0.424676775932312 - Validation Accuracy = 0.65420001745224\n",
      "Epoch 17, CIFAR-10 Batch 1:  Loss = 0.438378244638443 - Validation Accuracy = 0.6668000221252441\n",
      "Epoch 17, CIFAR-10 Batch 2:  Loss = 0.4669421315193176 - Validation Accuracy = 0.6531999707221985\n",
      "Epoch 17, CIFAR-10 Batch 3:  Loss = 0.41901180148124695 - Validation Accuracy = 0.6434000134468079\n",
      "Epoch 17, CIFAR-10 Batch 4:  Loss = 0.38380366563796997 - Validation Accuracy = 0.6531999707221985\n"
     ]
    },
    {
     "name": "stdout",
     "output_type": "stream",
     "text": [
      "Epoch 17, CIFAR-10 Batch 5:  Loss = 0.3704323470592499 - Validation Accuracy = 0.6543999910354614\n",
      "Epoch 18, CIFAR-10 Batch 1:  Loss = 0.42319267988204956 - Validation Accuracy = 0.6610000133514404\n",
      "Epoch 18, CIFAR-10 Batch 2:  Loss = 0.402436763048172 - Validation Accuracy = 0.6700000166893005\n",
      "Epoch 18, CIFAR-10 Batch 3:  Loss = 0.3373115658760071 - Validation Accuracy = 0.6632000207901001\n",
      "Epoch 18, CIFAR-10 Batch 4:  Loss = 0.34504058957099915 - Validation Accuracy = 0.6593999862670898\n",
      "Epoch 18, CIFAR-10 Batch 5:  Loss = 0.35073116421699524 - Validation Accuracy = 0.6629999876022339\n",
      "Epoch 19, CIFAR-10 Batch 1:  Loss = 0.3750405013561249 - Validation Accuracy = 0.6686000227928162\n",
      "Epoch 19, CIFAR-10 Batch 2:  Loss = 0.3902629613876343 - Validation Accuracy = 0.6704000234603882\n",
      "Epoch 19, CIFAR-10 Batch 3:  Loss = 0.3281406760215759 - Validation Accuracy = 0.6650000214576721\n",
      "Epoch 19, CIFAR-10 Batch 4:  Loss = 0.30995991826057434 - Validation Accuracy = 0.6736000180244446\n",
      "Epoch 19, CIFAR-10 Batch 5:  Loss = 0.3256743848323822 - Validation Accuracy = 0.6660000085830688\n",
      "Epoch 20, CIFAR-10 Batch 1:  Loss = 0.36094164848327637 - Validation Accuracy = 0.6607999801635742\n",
      "Epoch 20, CIFAR-10 Batch 2:  Loss = 0.35530516505241394 - Validation Accuracy = 0.673799991607666\n",
      "Epoch 20, CIFAR-10 Batch 3:  Loss = 0.3011540472507477 - Validation Accuracy = 0.6686000227928162\n",
      "Epoch 20, CIFAR-10 Batch 4:  Loss = 0.29016757011413574 - Validation Accuracy = 0.6646000146865845\n",
      "Epoch 20, CIFAR-10 Batch 5:  Loss = 0.3100089430809021 - Validation Accuracy = 0.6664000153541565\n",
      "Epoch 21, CIFAR-10 Batch 1:  Loss = 0.3347338140010834 - Validation Accuracy = 0.6636000275611877\n",
      "Epoch 21, CIFAR-10 Batch 2:  Loss = 0.3382969796657562 - Validation Accuracy = 0.6715999841690063\n",
      "Epoch 21, CIFAR-10 Batch 3:  Loss = 0.2817961275577545 - Validation Accuracy = 0.675000011920929\n",
      "Epoch 21, CIFAR-10 Batch 4:  Loss = 0.2615039348602295 - Validation Accuracy = 0.6697999835014343\n",
      "Epoch 21, CIFAR-10 Batch 5:  Loss = 0.2963172197341919 - Validation Accuracy = 0.6642000079154968\n",
      "Epoch 22, CIFAR-10 Batch 1:  Loss = 0.29645049571990967 - Validation Accuracy = 0.6700000166893005\n",
      "Epoch 22, CIFAR-10 Batch 2:  Loss = 0.2936490476131439 - Validation Accuracy = 0.6606000065803528\n",
      "Epoch 22, CIFAR-10 Batch 3:  Loss = 0.2567600607872009 - Validation Accuracy = 0.673799991607666\n",
      "Epoch 22, CIFAR-10 Batch 4:  Loss = 0.25569695234298706 - Validation Accuracy = 0.6672000288963318\n",
      "Epoch 22, CIFAR-10 Batch 5:  Loss = 0.29325684905052185 - Validation Accuracy = 0.6611999869346619\n",
      "Epoch 23, CIFAR-10 Batch 1:  Loss = 0.29391181468963623 - Validation Accuracy = 0.6697999835014343\n",
      "Epoch 23, CIFAR-10 Batch 2:  Loss = 0.2963455319404602 - Validation Accuracy = 0.6456000208854675\n",
      "Epoch 23, CIFAR-10 Batch 3:  Loss = 0.2570449113845825 - Validation Accuracy = 0.6732000112533569\n",
      "Epoch 23, CIFAR-10 Batch 4:  Loss = 0.2708520293235779 - Validation Accuracy = 0.6647999882698059\n",
      "Epoch 23, CIFAR-10 Batch 5:  Loss = 0.2649703621864319 - Validation Accuracy = 0.6728000044822693\n",
      "Epoch 24, CIFAR-10 Batch 1:  Loss = 0.2610296905040741 - Validation Accuracy = 0.6777999997138977\n",
      "Epoch 24, CIFAR-10 Batch 2:  Loss = 0.282219797372818 - Validation Accuracy = 0.6510000228881836\n",
      "Epoch 24, CIFAR-10 Batch 3:  Loss = 0.2612610459327698 - Validation Accuracy = 0.6600000262260437\n",
      "Epoch 24, CIFAR-10 Batch 4:  Loss = 0.23220722377300262 - Validation Accuracy = 0.6654000282287598\n",
      "Epoch 24, CIFAR-10 Batch 5:  Loss = 0.2278275340795517 - Validation Accuracy = 0.670799970626831\n",
      "Epoch 25, CIFAR-10 Batch 1:  Loss = 0.2519010305404663 - Validation Accuracy = 0.6656000018119812\n",
      "Epoch 25, CIFAR-10 Batch 2:  Loss = 0.24915842711925507 - Validation Accuracy = 0.6714000105857849\n",
      "Epoch 25, CIFAR-10 Batch 3:  Loss = 0.2404024749994278 - Validation Accuracy = 0.6624000072479248\n",
      "Epoch 25, CIFAR-10 Batch 4:  Loss = 0.2600449323654175 - Validation Accuracy = 0.6484000086784363\n",
      "Epoch 25, CIFAR-10 Batch 5:  Loss = 0.1980498731136322 - Validation Accuracy = 0.6715999841690063\n",
      "Epoch 26, CIFAR-10 Batch 1:  Loss = 0.2218499630689621 - Validation Accuracy = 0.6759999990463257\n",
      "Epoch 26, CIFAR-10 Batch 2:  Loss = 0.2226826399564743 - Validation Accuracy = 0.6651999950408936\n",
      "Epoch 26, CIFAR-10 Batch 3:  Loss = 0.206355020403862 - Validation Accuracy = 0.6692000031471252\n",
      "Epoch 26, CIFAR-10 Batch 4:  Loss = 0.2462281733751297 - Validation Accuracy = 0.6535999774932861\n",
      "Epoch 26, CIFAR-10 Batch 5:  Loss = 0.19146828353405 - Validation Accuracy = 0.6729999780654907\n",
      "Epoch 27, CIFAR-10 Batch 1:  Loss = 0.21536850929260254 - Validation Accuracy = 0.6812000274658203\n",
      "Epoch 27, CIFAR-10 Batch 2:  Loss = 0.2055346816778183 - Validation Accuracy = 0.675599992275238\n",
      "Epoch 27, CIFAR-10 Batch 3:  Loss = 0.18604077398777008 - Validation Accuracy = 0.6741999983787537\n",
      "Epoch 27, CIFAR-10 Batch 4:  Loss = 0.20338252186775208 - Validation Accuracy = 0.6632000207901001\n",
      "Epoch 27, CIFAR-10 Batch 5:  Loss = 0.17996491491794586 - Validation Accuracy = 0.6769999861717224\n",
      "Epoch 28, CIFAR-10 Batch 1:  Loss = 0.20544075965881348 - Validation Accuracy = 0.673799991607666\n",
      "Epoch 28, CIFAR-10 Batch 2:  Loss = 0.20900115370750427 - Validation Accuracy = 0.66839998960495\n",
      "Epoch 28, CIFAR-10 Batch 3:  Loss = 0.17837896943092346 - Validation Accuracy = 0.6819999814033508\n",
      "Epoch 28, CIFAR-10 Batch 4:  Loss = 0.16091710329055786 - Validation Accuracy = 0.6711999773979187\n",
      "Epoch 28, CIFAR-10 Batch 5:  Loss = 0.18296104669570923 - Validation Accuracy = 0.6728000044822693\n",
      "Epoch 29, CIFAR-10 Batch 1:  Loss = 0.1861760914325714 - Validation Accuracy = 0.6747999787330627\n",
      "Epoch 29, CIFAR-10 Batch 2:  Loss = 0.16677221655845642 - Validation Accuracy = 0.6746000051498413\n",
      "Epoch 29, CIFAR-10 Batch 3:  Loss = 0.15800850093364716 - Validation Accuracy = 0.6823999881744385\n",
      "Epoch 29, CIFAR-10 Batch 4:  Loss = 0.15364599227905273 - Validation Accuracy = 0.6633999943733215\n",
      "Epoch 29, CIFAR-10 Batch 5:  Loss = 0.14686162769794464 - Validation Accuracy = 0.6800000071525574\n",
      "Epoch 30, CIFAR-10 Batch 1:  Loss = 0.1616285741329193 - Validation Accuracy = 0.6854000091552734\n",
      "Epoch 30, CIFAR-10 Batch 2:  Loss = 0.16781902313232422 - Validation Accuracy = 0.6746000051498413\n",
      "Epoch 30, CIFAR-10 Batch 3:  Loss = 0.14887870848178864 - Validation Accuracy = 0.6833999752998352\n",
      "Epoch 30, CIFAR-10 Batch 4:  Loss = 0.137319415807724 - Validation Accuracy = 0.6782000064849854\n",
      "Epoch 30, CIFAR-10 Batch 5:  Loss = 0.14102664589881897 - Validation Accuracy = 0.6769999861717224\n",
      "Epoch 31, CIFAR-10 Batch 1:  Loss = 0.17260874807834625 - Validation Accuracy = 0.6809999942779541\n",
      "Epoch 31, CIFAR-10 Batch 2:  Loss = 0.14137232303619385 - Validation Accuracy = 0.6746000051498413\n",
      "Epoch 31, CIFAR-10 Batch 3:  Loss = 0.13873665034770966 - Validation Accuracy = 0.6722000241279602\n",
      "Epoch 31, CIFAR-10 Batch 4:  Loss = 0.13285906612873077 - Validation Accuracy = 0.6672000288963318\n",
      "Epoch 31, CIFAR-10 Batch 5:  Loss = 0.12163574993610382 - Validation Accuracy = 0.6814000010490417\n",
      "Epoch 32, CIFAR-10 Batch 1:  Loss = 0.15011242032051086 - Validation Accuracy = 0.675000011920929\n",
      "Epoch 32, CIFAR-10 Batch 2:  Loss = 0.1327362358570099 - Validation Accuracy = 0.6814000010490417\n",
      "Epoch 32, CIFAR-10 Batch 3:  Loss = 0.12891897559165955 - Validation Accuracy = 0.6796000003814697\n",
      "Epoch 32, CIFAR-10 Batch 4:  Loss = 0.10958094149827957 - Validation Accuracy = 0.670199990272522\n",
      "Epoch 32, CIFAR-10 Batch 5:  Loss = 0.1079060360789299 - Validation Accuracy = 0.6833999752998352\n",
      "Epoch 33, CIFAR-10 Batch 1:  Loss = 0.11965537816286087 - Validation Accuracy = 0.675599992275238\n",
      "Epoch 33, CIFAR-10 Batch 2:  Loss = 0.13113796710968018 - Validation Accuracy = 0.6830000281333923\n",
      "Epoch 33, CIFAR-10 Batch 3:  Loss = 0.12652024626731873 - Validation Accuracy = 0.6787999868392944\n",
      "Epoch 33, CIFAR-10 Batch 4:  Loss = 0.11053144931793213 - Validation Accuracy = 0.6725999712944031\n",
      "Epoch 33, CIFAR-10 Batch 5:  Loss = 0.12068663537502289 - Validation Accuracy = 0.6624000072479248\n",
      "Epoch 34, CIFAR-10 Batch 1:  Loss = 0.11996100097894669 - Validation Accuracy = 0.6814000010490417\n",
      "Epoch 34, CIFAR-10 Batch 2:  Loss = 0.11207614094018936 - Validation Accuracy = 0.6814000010490417\n",
      "Epoch 34, CIFAR-10 Batch 3:  Loss = 0.10616938769817352 - Validation Accuracy = 0.6845999956130981\n"
     ]
    },
    {
     "name": "stdout",
     "output_type": "stream",
     "text": [
      "Epoch 34, CIFAR-10 Batch 4:  Loss = 0.09666144847869873 - Validation Accuracy = 0.673799991607666\n",
      "Epoch 34, CIFAR-10 Batch 5:  Loss = 0.1097840890288353 - Validation Accuracy = 0.6800000071525574\n",
      "Epoch 35, CIFAR-10 Batch 1:  Loss = 0.12131761759519577 - Validation Accuracy = 0.6736000180244446\n",
      "Epoch 35, CIFAR-10 Batch 2:  Loss = 0.10740001499652863 - Validation Accuracy = 0.6819999814033508\n",
      "Epoch 35, CIFAR-10 Batch 3:  Loss = 0.10185325145721436 - Validation Accuracy = 0.680400013923645\n",
      "Epoch 35, CIFAR-10 Batch 4:  Loss = 0.08766831457614899 - Validation Accuracy = 0.6741999983787537\n",
      "Epoch 35, CIFAR-10 Batch 5:  Loss = 0.08877521753311157 - Validation Accuracy = 0.6830000281333923\n",
      "Epoch 36, CIFAR-10 Batch 1:  Loss = 0.10905806720256805 - Validation Accuracy = 0.675000011920929\n",
      "Epoch 36, CIFAR-10 Batch 2:  Loss = 0.11202197521924973 - Validation Accuracy = 0.6751999855041504\n",
      "Epoch 36, CIFAR-10 Batch 3:  Loss = 0.08595259487628937 - Validation Accuracy = 0.6746000051498413\n",
      "Epoch 36, CIFAR-10 Batch 4:  Loss = 0.08174672722816467 - Validation Accuracy = 0.6754000186920166\n",
      "Epoch 36, CIFAR-10 Batch 5:  Loss = 0.08055112510919571 - Validation Accuracy = 0.6764000058174133\n",
      "Epoch 37, CIFAR-10 Batch 1:  Loss = 0.09188225865364075 - Validation Accuracy = 0.6773999929428101\n",
      "Epoch 37, CIFAR-10 Batch 2:  Loss = 0.08985976874828339 - Validation Accuracy = 0.6751999855041504\n",
      "Epoch 37, CIFAR-10 Batch 3:  Loss = 0.08377394080162048 - Validation Accuracy = 0.682200014591217\n",
      "Epoch 37, CIFAR-10 Batch 4:  Loss = 0.06777786463499069 - Validation Accuracy = 0.6714000105857849\n",
      "Epoch 37, CIFAR-10 Batch 5:  Loss = 0.07723276317119598 - Validation Accuracy = 0.6777999997138977\n",
      "Epoch 38, CIFAR-10 Batch 1:  Loss = 0.09006920456886292 - Validation Accuracy = 0.6715999841690063\n",
      "Epoch 38, CIFAR-10 Batch 2:  Loss = 0.09115448594093323 - Validation Accuracy = 0.675000011920929\n",
      "Epoch 38, CIFAR-10 Batch 3:  Loss = 0.07712918519973755 - Validation Accuracy = 0.6877999901771545\n",
      "Epoch 38, CIFAR-10 Batch 4:  Loss = 0.08811438828706741 - Validation Accuracy = 0.6656000018119812\n",
      "Epoch 38, CIFAR-10 Batch 5:  Loss = 0.07265041023492813 - Validation Accuracy = 0.6732000112533569\n",
      "Epoch 39, CIFAR-10 Batch 1:  Loss = 0.08485148847103119 - Validation Accuracy = 0.6647999882698059\n",
      "Epoch 39, CIFAR-10 Batch 2:  Loss = 0.08975712209939957 - Validation Accuracy = 0.6733999848365784\n",
      "Epoch 39, CIFAR-10 Batch 3:  Loss = 0.06653091311454773 - Validation Accuracy = 0.6894000172615051\n",
      "Epoch 39, CIFAR-10 Batch 4:  Loss = 0.06777823716402054 - Validation Accuracy = 0.6696000099182129\n",
      "Epoch 39, CIFAR-10 Batch 5:  Loss = 0.06330449879169464 - Validation Accuracy = 0.6797999739646912\n",
      "Epoch 40, CIFAR-10 Batch 1:  Loss = 0.0743417963385582 - Validation Accuracy = 0.6761999726295471\n",
      "Epoch 40, CIFAR-10 Batch 2:  Loss = 0.07025125622749329 - Validation Accuracy = 0.6783999800682068\n",
      "Epoch 40, CIFAR-10 Batch 3:  Loss = 0.06302958726882935 - Validation Accuracy = 0.6833999752998352\n",
      "Epoch 40, CIFAR-10 Batch 4:  Loss = 0.061179399490356445 - Validation Accuracy = 0.6704000234603882\n",
      "Epoch 40, CIFAR-10 Batch 5:  Loss = 0.056980133056640625 - Validation Accuracy = 0.6805999875068665\n",
      "Epoch 41, CIFAR-10 Batch 1:  Loss = 0.08029110729694366 - Validation Accuracy = 0.6704000234603882\n",
      "Epoch 41, CIFAR-10 Batch 2:  Loss = 0.07417477667331696 - Validation Accuracy = 0.6764000058174133\n",
      "Epoch 41, CIFAR-10 Batch 3:  Loss = 0.06634151935577393 - Validation Accuracy = 0.6812000274658203\n",
      "Epoch 41, CIFAR-10 Batch 4:  Loss = 0.05055345222353935 - Validation Accuracy = 0.678600013256073\n",
      "Epoch 41, CIFAR-10 Batch 5:  Loss = 0.050880346447229385 - Validation Accuracy = 0.6815999746322632\n",
      "Epoch 42, CIFAR-10 Batch 1:  Loss = 0.06197182089090347 - Validation Accuracy = 0.6661999821662903\n",
      "Epoch 42, CIFAR-10 Batch 2:  Loss = 0.057458601891994476 - Validation Accuracy = 0.678600013256073\n",
      "Epoch 42, CIFAR-10 Batch 3:  Loss = 0.05745669826865196 - Validation Accuracy = 0.6773999929428101\n",
      "Epoch 42, CIFAR-10 Batch 4:  Loss = 0.045104142278432846 - Validation Accuracy = 0.6715999841690063\n",
      "Epoch 42, CIFAR-10 Batch 5:  Loss = 0.04372091218829155 - Validation Accuracy = 0.6797999739646912\n",
      "Epoch 43, CIFAR-10 Batch 1:  Loss = 0.06318151205778122 - Validation Accuracy = 0.6783999800682068\n",
      "Epoch 43, CIFAR-10 Batch 2:  Loss = 0.04606669023633003 - Validation Accuracy = 0.6845999956130981\n",
      "Epoch 43, CIFAR-10 Batch 3:  Loss = 0.05713531747460365 - Validation Accuracy = 0.6729999780654907\n",
      "Epoch 43, CIFAR-10 Batch 4:  Loss = 0.041441407054662704 - Validation Accuracy = 0.6682000160217285\n",
      "Epoch 43, CIFAR-10 Batch 5:  Loss = 0.04892819747328758 - Validation Accuracy = 0.6751999855041504\n",
      "Epoch 44, CIFAR-10 Batch 1:  Loss = 0.049211062490940094 - Validation Accuracy = 0.6664000153541565\n",
      "Epoch 44, CIFAR-10 Batch 2:  Loss = 0.04900411516427994 - Validation Accuracy = 0.6794000267982483\n",
      "Epoch 44, CIFAR-10 Batch 3:  Loss = 0.05500597506761551 - Validation Accuracy = 0.6620000004768372\n",
      "Epoch 44, CIFAR-10 Batch 4:  Loss = 0.0403091199696064 - Validation Accuracy = 0.671999990940094\n",
      "Epoch 44, CIFAR-10 Batch 5:  Loss = 0.0356321856379509 - Validation Accuracy = 0.6787999868392944\n",
      "Epoch 45, CIFAR-10 Batch 1:  Loss = 0.047708671540021896 - Validation Accuracy = 0.6714000105857849\n",
      "Epoch 45, CIFAR-10 Batch 2:  Loss = 0.044676486402750015 - Validation Accuracy = 0.6776000261306763\n",
      "Epoch 45, CIFAR-10 Batch 3:  Loss = 0.04845014959573746 - Validation Accuracy = 0.6686000227928162\n",
      "Epoch 45, CIFAR-10 Batch 4:  Loss = 0.0447881817817688 - Validation Accuracy = 0.6765999794006348\n",
      "Epoch 45, CIFAR-10 Batch 5:  Loss = 0.032259225845336914 - Validation Accuracy = 0.6733999848365784\n",
      "Epoch 46, CIFAR-10 Batch 1:  Loss = 0.055370137095451355 - Validation Accuracy = 0.675599992275238\n",
      "Epoch 46, CIFAR-10 Batch 2:  Loss = 0.04760850965976715 - Validation Accuracy = 0.6764000058174133\n",
      "Epoch 46, CIFAR-10 Batch 3:  Loss = 0.048167478293180466 - Validation Accuracy = 0.6664000153541565\n",
      "Epoch 46, CIFAR-10 Batch 4:  Loss = 0.051005467772483826 - Validation Accuracy = 0.6579999923706055\n",
      "Epoch 46, CIFAR-10 Batch 5:  Loss = 0.04035234451293945 - Validation Accuracy = 0.6705999970436096\n",
      "Epoch 47, CIFAR-10 Batch 1:  Loss = 0.046269286423921585 - Validation Accuracy = 0.6741999983787537\n",
      "Epoch 47, CIFAR-10 Batch 2:  Loss = 0.043940287083387375 - Validation Accuracy = 0.6776000261306763\n",
      "Epoch 47, CIFAR-10 Batch 3:  Loss = 0.05004020407795906 - Validation Accuracy = 0.6624000072479248\n",
      "Epoch 47, CIFAR-10 Batch 4:  Loss = 0.03951527923345566 - Validation Accuracy = 0.6642000079154968\n",
      "Epoch 47, CIFAR-10 Batch 5:  Loss = 0.03162425756454468 - Validation Accuracy = 0.6700000166893005\n",
      "Epoch 48, CIFAR-10 Batch 1:  Loss = 0.04527769982814789 - Validation Accuracy = 0.6714000105857849\n",
      "Epoch 48, CIFAR-10 Batch 2:  Loss = 0.05749407410621643 - Validation Accuracy = 0.671999990940094\n",
      "Epoch 48, CIFAR-10 Batch 3:  Loss = 0.04301093518733978 - Validation Accuracy = 0.6643999814987183\n",
      "Epoch 48, CIFAR-10 Batch 4:  Loss = 0.04152447357773781 - Validation Accuracy = 0.6636000275611877\n",
      "Epoch 48, CIFAR-10 Batch 5:  Loss = 0.02209542691707611 - Validation Accuracy = 0.6855999827384949\n",
      "Epoch 49, CIFAR-10 Batch 1:  Loss = 0.037465158849954605 - Validation Accuracy = 0.6814000010490417\n",
      "Epoch 49, CIFAR-10 Batch 2:  Loss = 0.04916802793741226 - Validation Accuracy = 0.6818000078201294\n",
      "Epoch 49, CIFAR-10 Batch 3:  Loss = 0.03203941509127617 - Validation Accuracy = 0.6620000004768372\n",
      "Epoch 49, CIFAR-10 Batch 4:  Loss = 0.03672248125076294 - Validation Accuracy = 0.6583999991416931\n",
      "Epoch 49, CIFAR-10 Batch 5:  Loss = 0.028038781136274338 - Validation Accuracy = 0.6764000058174133\n",
      "Epoch 50, CIFAR-10 Batch 1:  Loss = 0.03645729646086693 - Validation Accuracy = 0.6845999956130981\n",
      "Epoch 50, CIFAR-10 Batch 2:  Loss = 0.03463762626051903 - Validation Accuracy = 0.6746000051498413\n",
      "Epoch 50, CIFAR-10 Batch 3:  Loss = 0.02509351633489132 - Validation Accuracy = 0.6669999957084656\n",
      "Epoch 50, CIFAR-10 Batch 4:  Loss = 0.02682994119822979 - Validation Accuracy = 0.6710000038146973\n",
      "Epoch 50, CIFAR-10 Batch 5:  Loss = 0.021210957318544388 - Validation Accuracy = 0.6794000267982483\n"
     ]
    }
   ],
   "source": [
    "\"\"\"\n",
    "DON'T MODIFY ANYTHING IN THIS CELL\n",
    "\"\"\"\n",
    "save_model_path = './image_classification'\n",
    "\n",
    "print('Training...')\n",
    "with tf.Session() as sess:\n",
    "    # Initializing the variables\n",
    "    sess.run(tf.global_variables_initializer())\n",
    "    \n",
    "    # Training cycle\n",
    "    for epoch in range(epochs):\n",
    "        # Loop over all batches\n",
    "        n_batches = 5\n",
    "        for batch_i in range(1, n_batches + 1):\n",
    "            for batch_features, batch_labels in helper.load_preprocess_training_batch(batch_i, batch_size):\n",
    "                train_neural_network(sess, optimizer, keep_probability, batch_features, batch_labels)\n",
    "            print('Epoch {:>2}, CIFAR-10 Batch {}:  '.format(epoch + 1, batch_i), end='')\n",
    "            print_stats(sess, batch_features, batch_labels, cost, accuracy)\n",
    "            \n",
    "    # Save Model\n",
    "    saver = tf.train.Saver()\n",
    "    save_path = saver.save(sess, save_model_path)"
   ]
  },
  {
   "cell_type": "markdown",
   "metadata": {},
   "source": [
    "# Checkpoint\n",
    "The model has been saved to disk.\n",
    "## Test Model\n",
    "Test your model against the test dataset.  This will be your final accuracy. You should have an accuracy greater than 50%. If you don't, keep tweaking the model architecture and parameters."
   ]
  },
  {
   "cell_type": "code",
   "execution_count": 48,
   "metadata": {},
   "outputs": [
    {
     "name": "stdout",
     "output_type": "stream",
     "text": [
      "Testing Accuracy: 0.6750459551811219\n",
      "\n"
     ]
    },
    {
     "data": {
      "image/png": "[encoded data removed]",
      "text/plain": [
       "<matplotlib.figure.Figure at 0x11f07c4e0>"
      ]
     },
     "metadata": {
      "image/png": {
       "height": 319,
       "width": 355
      }
     },
     "output_type": "display_data"
    }
   ],
   "source": [
    "\"\"\"\n",
    "DON'T MODIFY ANYTHING IN THIS CELL\n",
    "\"\"\"\n",
    "%matplotlib inline\n",
    "%config InlineBackend.figure_format = 'retina'\n",
    "\n",
    "import tensorflow as tf\n",
    "import pickle\n",
    "import helper\n",
    "import random\n",
    "\n",
    "# Set batch size if not already set\n",
    "try:\n",
    "    if batch_size:\n",
    "        pass\n",
    "except NameError:\n",
    "    batch_size = 64\n",
    "\n",
    "save_model_path = './image_classification'\n",
    "n_samples = 4\n",
    "top_n_predictions = 3\n",
    "\n",
    "def test_model():\n",
    "    \"\"\"\n",
    "    Test the saved model against the test dataset\n",
    "    \"\"\"\n",
    "\n",
    "    test_features, test_labels = pickle.load(open('preprocess_test.p', mode='rb'))\n",
    "    loaded_graph = tf.Graph()\n",
    "\n",
    "    with tf.Session(graph=loaded_graph) as sess:\n",
    "        # Load model\n",
    "        loader = tf.train.import_meta_graph(save_model_path + '.meta')\n",
    "        loader.restore(sess, save_model_path)\n",
    "\n",
    "        # Get Tensors from loaded model\n",
    "        loaded_x = loaded_graph.get_tensor_by_name('x:0')\n",
    "        loaded_y = loaded_graph.get_tensor_by_name('y:0')\n",
    "        loaded_keep_prob = loaded_graph.get_tensor_by_name('keep_prob:0')\n",
    "        loaded_logits = loaded_graph.get_tensor_by_name('logits:0')\n",
    "        loaded_acc = loaded_graph.get_tensor_by_name('accuracy:0')\n",
    "        \n",
    "        # Get accuracy in batches for memory limitations\n",
    "        test_batch_acc_total = 0\n",
    "        test_batch_count = 0\n",
    "        \n",
    "        for test_feature_batch, test_label_batch in helper.batch_features_labels(test_features, test_labels, batch_size):\n",
    "            test_batch_acc_total += sess.run(\n",
    "                loaded_acc,\n",
    "                feed_dict={loaded_x: test_feature_batch, loaded_y: test_label_batch, loaded_keep_prob: 1.0})\n",
    "            test_batch_count += 1\n",
    "\n",
    "        print('Testing Accuracy: {}\\n'.format(test_batch_acc_total/test_batch_count))\n",
    "\n",
    "        # Print Random Samples\n",
    "        random_test_features, random_test_labels = tuple(zip(*random.sample(list(zip(test_features, test_labels)), n_samples)))\n",
    "        random_test_predictions = sess.run(\n",
    "            tf.nn.top_k(tf.nn.softmax(loaded_logits), top_n_predictions),\n",
    "            feed_dict={loaded_x: random_test_features, loaded_y: random_test_labels, loaded_keep_prob: 1.0})\n",
    "        helper.display_image_predictions(random_test_features, random_test_labels, random_test_predictions)\n",
    "\n",
    "\n",
    "test_model()"
   ]
  },
  {
   "cell_type": "markdown",
   "metadata": {},
   "source": [
    "## Why 50-80% Accuracy?\n",
    "You might be wondering why you can't get an accuracy any higher. First things first, 50% isn't bad for a simple CNN.  Pure guessing would get you 10% accuracy. However, you might notice people are getting scores [well above 80%](http://rodrigob.github.io/are_we_there_yet/build/classification_datasets_results.html#43494641522d3130).  That's because we haven't taught you all there is to know about neural networks. We still need to cover a few more techniques.\n",
    "## Submitting This Project\n",
    "When submitting this project, make sure to run all the cells before saving the notebook.  Save the notebook file as \"dlnd_image_classification.ipynb\" and save it as a HTML file under \"File\" -> \"Download as\".  Include the \"helper.py\" and \"problem_unittests.py\" files in your submission."
   ]
  }
 ],
 "metadata": {
  "kernelspec": {
   "display_name": "Python 3",
   "language": "python",
   "name": "python3"
  },
  "language_info": {
   "codemirror_mode": {
    "name": "ipython",
    "version": 3
   },
   "file_extension": ".py",
   "mimetype": "text/x-python",
   "name": "python",
   "nbconvert_exporter": "python",
   "pygments_lexer": "ipython3",
   "version": "3.6.0"
  }
 },
 "nbformat": 4,
 "nbformat_minor": 1
}
